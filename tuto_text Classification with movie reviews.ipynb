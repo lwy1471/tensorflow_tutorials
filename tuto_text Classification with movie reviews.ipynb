{
 "cells": [
  {
   "cell_type": "code",
   "execution_count": 1,
   "metadata": {
    "collapsed": true
   },
   "outputs": [],
   "source": [
    "import tensorflow as tf\n",
    "from tensorflow import keras\n",
    "\n",
    "import numpy as np\n",
    "\n"
   ]
  },
  {
   "cell_type": "code",
   "execution_count": 3,
   "metadata": {},
   "outputs": [],
   "source": [
    "imdb = keras.datasets.imdb\n",
    "(train_data, train_labels), (test_data, test_labels) = imdb.load_data(num_words=10000)\n"
   ]
  },
  {
   "cell_type": "code",
   "execution_count": 6,
   "metadata": {},
   "outputs": [
    {
     "name": "stdout",
     "output_type": "stream",
     "text": [
      "Training entries: 25000, labels: 25000\n",
      "[1, 14, 22, 16, 43, 530, 973, 1622, 1385, 65, 458, 4468, 66, 3941, 4, 173, 36, 256, 5, 25, 100, 43, 838, 112, 50, 670, 2, 9, 35, 480, 284, 5, 150, 4, 172, 112, 167, 2, 336, 385, 39, 4, 172, 4536, 1111, 17, 546, 38, 13, 447, 4, 192, 50, 16, 6, 147, 2025, 19, 14, 22, 4, 1920, 4613, 469, 4, 22, 71, 87, 12, 16, 43, 530, 38, 76, 15, 13, 1247, 4, 22, 17, 515, 17, 12, 16, 626, 18, 2, 5, 62, 386, 12, 8, 316, 8, 106, 5, 4, 2223, 5244, 16, 480, 66, 3785, 33, 4, 130, 12, 16, 38, 619, 5, 25, 124, 51, 36, 135, 48, 25, 1415, 33, 6, 22, 12, 215, 28, 77, 52, 5, 14, 407, 16, 82, 2, 8, 4, 107, 117, 5952, 15, 256, 4, 2, 7, 3766, 5, 723, 36, 71, 43, 530, 476, 26, 400, 317, 46, 7, 4, 2, 1029, 13, 104, 88, 4, 381, 15, 297, 98, 32, 2071, 56, 26, 141, 6, 194, 7486, 18, 4, 226, 22, 21, 134, 476, 26, 480, 5, 144, 30, 5535, 18, 51, 36, 28, 224, 92, 25, 104, 4, 226, 65, 16, 38, 1334, 88, 12, 16, 283, 5, 16, 4472, 113, 103, 32, 15, 16, 5345, 19, 178, 32]\n"
     ]
    }
   ],
   "source": [
    "print(\"Training entries: {}, labels: {}\".format(len(train_data), len(train_labels)))\n",
    "\n",
    "print(train_data[0])"
   ]
  },
  {
   "cell_type": "code",
   "execution_count": 13,
   "metadata": {},
   "outputs": [],
   "source": [
    "word_index = imdb.get_word_index()\n",
    "#print(word_index)\n",
    "word_index = {k:(v+3) for k,v in word_index.items()}\n",
    "word_index[\"<PAD>\"] = 0\n",
    "word_index[\"<START>\"] = 1\n",
    "word_index[\"<UNK>\"] = 2\n",
    "word_index[\"<UNUSED>\"] = 3\n",
    "\n",
    "reverse_word_index = dict([(value, key) for (key, value) in word_index.items()])\n",
    "def decode_review(text):\n",
    "    return ' '.join([reverse_word_index.get(i, '?') for i in text])\n"
   ]
  },
  {
   "cell_type": "code",
   "execution_count": 14,
   "metadata": {},
   "outputs": [
    {
     "name": "stdout",
     "output_type": "stream",
     "text": [
      "[1, 14, 22, 16, 43, 530, 973, 1622, 1385, 65, 458, 4468, 66, 3941, 4, 173, 36, 256, 5, 25, 100, 43, 838, 112, 50, 670, 2, 9, 35, 480, 284, 5, 150, 4, 172, 112, 167, 2, 336, 385, 39, 4, 172, 4536, 1111, 17, 546, 38, 13, 447, 4, 192, 50, 16, 6, 147, 2025, 19, 14, 22, 4, 1920, 4613, 469, 4, 22, 71, 87, 12, 16, 43, 530, 38, 76, 15, 13, 1247, 4, 22, 17, 515, 17, 12, 16, 626, 18, 2, 5, 62, 386, 12, 8, 316, 8, 106, 5, 4, 2223, 5244, 16, 480, 66, 3785, 33, 4, 130, 12, 16, 38, 619, 5, 25, 124, 51, 36, 135, 48, 25, 1415, 33, 6, 22, 12, 215, 28, 77, 52, 5, 14, 407, 16, 82, 2, 8, 4, 107, 117, 5952, 15, 256, 4, 2, 7, 3766, 5, 723, 36, 71, 43, 530, 476, 26, 400, 317, 46, 7, 4, 2, 1029, 13, 104, 88, 4, 381, 15, 297, 98, 32, 2071, 56, 26, 141, 6, 194, 7486, 18, 4, 226, 22, 21, 134, 476, 26, 480, 5, 144, 30, 5535, 18, 51, 36, 28, 224, 92, 25, 104, 4, 226, 65, 16, 38, 1334, 88, 12, 16, 283, 5, 16, 4472, 113, 103, 32, 15, 16, 5345, 19, 178, 32]\n"
     ]
    },
    {
     "data": {
      "text/plain": [
       "\"<START> this film was just brilliant casting location scenery story direction everyone's really suited the part they played and you could just imagine being there robert <UNK> is an amazing actor and now the same being director <UNK> father came from the same scottish island as myself so i loved the fact there was a real connection with this film the witty remarks throughout the film were great it was just brilliant so much that i bought the film as soon as it was released for <UNK> and would recommend it to everyone to watch and the fly fishing was amazing really cried at the end it was so sad and you know what they say if you cry at a film it must have been good and this definitely was also <UNK> to the two little boy's that played the <UNK> of norman and paul they were just brilliant children are often left out of the <UNK> list i think because the stars that play them all grown up are such a big profile for the whole film but these children are amazing and should be praised for what they have done don't you think the whole story was so lovely because it was true and was someone's life after all that was shared with us all\""
      ]
     },
     "execution_count": 14,
     "metadata": {},
     "output_type": "execute_result"
    }
   ],
   "source": [
    "print(train_data[0])\n",
    "decode_review(train_data[0])\n"
   ]
  },
  {
   "cell_type": "code",
   "execution_count": 16,
   "metadata": {},
   "outputs": [
    {
     "data": {
      "text/plain": [
       "(256, 256)"
      ]
     },
     "execution_count": 16,
     "metadata": {},
     "output_type": "execute_result"
    }
   ],
   "source": [
    "train_data = keras.preprocessing.sequence.pad_sequences(train_data, value=word_index[\"<PAD>\"], padding='post', maxlen=256)\n",
    "test_data = keras.preprocessing.sequence.pad_sequences(test_data, value=word_index[\"<PAD>\"], padding='post', maxlen=256)\n",
    "\n",
    "len(train_data[0]), len(train_data[1])"
   ]
  },
  {
   "cell_type": "code",
   "execution_count": 19,
   "metadata": {},
   "outputs": [
    {
     "name": "stdout",
     "output_type": "stream",
     "text": [
      "[   1   14   22   16   43  530  973 1622 1385   65  458 4468   66 3941    4\n",
      "  173   36  256    5   25  100   43  838  112   50  670    2    9   35  480\n",
      "  284    5  150    4  172  112  167    2  336  385   39    4  172 4536 1111\n",
      "   17  546   38   13  447    4  192   50   16    6  147 2025   19   14   22\n",
      "    4 1920 4613  469    4   22   71   87   12   16   43  530   38   76   15\n",
      "   13 1247    4   22   17  515   17   12   16  626   18    2    5   62  386\n",
      "   12    8  316    8  106    5    4 2223 5244   16  480   66 3785   33    4\n",
      "  130   12   16   38  619    5   25  124   51   36  135   48   25 1415   33\n",
      "    6   22   12  215   28   77   52    5   14  407   16   82    2    8    4\n",
      "  107  117 5952   15  256    4    2    7 3766    5  723   36   71   43  530\n",
      "  476   26  400  317   46    7    4    2 1029   13  104   88    4  381   15\n",
      "  297   98   32 2071   56   26  141    6  194 7486   18    4  226   22   21\n",
      "  134  476   26  480    5  144   30 5535   18   51   36   28  224   92   25\n",
      "  104    4  226   65   16   38 1334   88   12   16  283    5   16 4472  113\n",
      "  103   32   15   16 5345   19  178   32    0    0    0    0    0    0    0\n",
      "    0    0    0    0    0    0    0    0    0    0    0    0    0    0    0\n",
      "    0    0    0    0    0    0    0    0    0    0    0    0    0    0    0\n",
      "    0]\n",
      "1\n"
     ]
    }
   ],
   "source": [
    "print(train_data[0])\n",
    "print(train_labels[0])"
   ]
  },
  {
   "cell_type": "code",
   "execution_count": 21,
   "metadata": {},
   "outputs": [
    {
     "name": "stdout",
     "output_type": "stream",
     "text": [
      "_________________________________________________________________\n",
      "Layer (type)                 Output Shape              Param #   \n",
      "=================================================================\n",
      "embedding_1 (Embedding)      (None, None, 16)          160000    \n",
      "_________________________________________________________________\n",
      "global_average_pooling1d_1 ( (None, 16)                0         \n",
      "_________________________________________________________________\n",
      "dense_2 (Dense)              (None, 16)                272       \n",
      "_________________________________________________________________\n",
      "dense_3 (Dense)              (None, 1)                 17        \n",
      "=================================================================\n",
      "Total params: 160,289\n",
      "Trainable params: 160,289\n",
      "Non-trainable params: 0\n",
      "_________________________________________________________________\n"
     ]
    }
   ],
   "source": [
    "vocab_size = 10000\n",
    "\n",
    "model = keras.Sequential()\n",
    "model.add(keras.layers.Embedding(vocab_size, 16))\n",
    "model.add(keras.layers.GlobalAveragePooling1D())\n",
    "model.add(keras.layers.Dense(16, activation=tf.nn.relu))\n",
    "model.add(keras.layers.Dense(1, activation=tf.nn.sigmoid))\n",
    "\n",
    "model.summary()"
   ]
  },
  {
   "cell_type": "code",
   "execution_count": 24,
   "metadata": {
    "collapsed": true
   },
   "outputs": [],
   "source": [
    "model.compile(optimizer=tf.train.AdamOptimizer(), loss='binary_crossentropy', metrics=['accuracy'])\n",
    "\n",
    "x_val = train_data[:10000]\n",
    "partial_x_train = train_data[10000:]\n",
    "\n",
    "y_val = train_labels[:10000]\n",
    "partial_y_train = train_labels[10000:]\n",
    "\n"
   ]
  },
  {
   "cell_type": "code",
   "execution_count": 26,
   "metadata": {},
   "outputs": [
    {
     "name": "stdout",
     "output_type": "stream",
     "text": [
      "Train on 15000 samples, validate on 10000 samples\n",
      "Epoch 1/40\n",
      "15000/15000 [==============================] - 1s 98us/step - loss: 0.1775 - acc: 0.9396 - val_loss: 0.2873 - val_acc: 0.8851\n",
      "Epoch 2/40\n",
      "15000/15000 [==============================] - 1s 96us/step - loss: 0.1729 - acc: 0.9424 - val_loss: 0.2864 - val_acc: 0.8851\n",
      "Epoch 3/40\n",
      "15000/15000 [==============================] - 2s 125us/step - loss: 0.1687 - acc: 0.9443 - val_loss: 0.2862 - val_acc: 0.8851\n",
      "Epoch 4/40\n",
      "15000/15000 [==============================] - 2s 126us/step - loss: 0.1648 - acc: 0.9454 - val_loss: 0.2861 - val_acc: 0.8865\n",
      "Epoch 5/40\n",
      "15000/15000 [==============================] - 2s 126us/step - loss: 0.1613 - acc: 0.9478 - val_loss: 0.2856 - val_acc: 0.8864\n",
      "Epoch 6/40\n",
      "15000/15000 [==============================] - 2s 131us/step - loss: 0.1571 - acc: 0.9492 - val_loss: 0.2866 - val_acc: 0.8862\n",
      "Epoch 7/40\n",
      "15000/15000 [==============================] - 2s 125us/step - loss: 0.1540 - acc: 0.9501 - val_loss: 0.2859 - val_acc: 0.8865\n",
      "Epoch 8/40\n",
      "15000/15000 [==============================] - 2s 133us/step - loss: 0.1499 - acc: 0.9521 - val_loss: 0.2860 - val_acc: 0.8871\n",
      "Epoch 9/40\n",
      "15000/15000 [==============================] - 2s 150us/step - loss: 0.1466 - acc: 0.9535 - val_loss: 0.2861 - val_acc: 0.8870\n",
      "Epoch 10/40\n",
      "15000/15000 [==============================] - 2s 155us/step - loss: 0.1434 - acc: 0.9551 - val_loss: 0.2865 - val_acc: 0.8869\n",
      "Epoch 11/40\n",
      "15000/15000 [==============================] - 2s 132us/step - loss: 0.1399 - acc: 0.9558 - val_loss: 0.2872 - val_acc: 0.8867\n",
      "Epoch 12/40\n",
      "15000/15000 [==============================] - 2s 142us/step - loss: 0.1368 - acc: 0.9572 - val_loss: 0.2877 - val_acc: 0.8869\n",
      "Epoch 13/40\n",
      "15000/15000 [==============================] - 2s 147us/step - loss: 0.1338 - acc: 0.9582 - val_loss: 0.2884 - val_acc: 0.8880\n",
      "Epoch 14/40\n",
      "15000/15000 [==============================] - 2s 160us/step - loss: 0.1309 - acc: 0.9603 - val_loss: 0.2902 - val_acc: 0.8862\n",
      "Epoch 15/40\n",
      "15000/15000 [==============================] - 2s 141us/step - loss: 0.1282 - acc: 0.9605 - val_loss: 0.2914 - val_acc: 0.8864\n",
      "Epoch 16/40\n",
      "15000/15000 [==============================] - 2s 136us/step - loss: 0.1262 - acc: 0.9623 - val_loss: 0.2913 - val_acc: 0.8867\n",
      "Epoch 17/40\n",
      "15000/15000 [==============================] - 2s 145us/step - loss: 0.1231 - acc: 0.9625 - val_loss: 0.2939 - val_acc: 0.8853\n",
      "Epoch 18/40\n",
      "15000/15000 [==============================] - 2s 143us/step - loss: 0.1205 - acc: 0.9633 - val_loss: 0.2937 - val_acc: 0.8877\n",
      "Epoch 19/40\n",
      "15000/15000 [==============================] - 2s 150us/step - loss: 0.1173 - acc: 0.9658 - val_loss: 0.2947 - val_acc: 0.8871\n",
      "Epoch 20/40\n",
      "15000/15000 [==============================] - 2s 157us/step - loss: 0.1148 - acc: 0.9668 - val_loss: 0.2957 - val_acc: 0.8868\n",
      "Epoch 21/40\n",
      "15000/15000 [==============================] - 2s 140us/step - loss: 0.1128 - acc: 0.9677 - val_loss: 0.2971 - val_acc: 0.8877\n",
      "Epoch 22/40\n",
      "15000/15000 [==============================] - 2s 164us/step - loss: 0.1098 - acc: 0.9681 - val_loss: 0.2983 - val_acc: 0.8872\n",
      "Epoch 23/40\n",
      "15000/15000 [==============================] - 3s 169us/step - loss: 0.1074 - acc: 0.9694 - val_loss: 0.3002 - val_acc: 0.8872\n",
      "Epoch 24/40\n",
      "15000/15000 [==============================] - 3s 167us/step - loss: 0.1057 - acc: 0.9695 - val_loss: 0.3026 - val_acc: 0.8864\n",
      "Epoch 25/40\n",
      "15000/15000 [==============================] - 2s 147us/step - loss: 0.1029 - acc: 0.9706 - val_loss: 0.3029 - val_acc: 0.8864\n",
      "Epoch 26/40\n",
      "15000/15000 [==============================] - 2s 156us/step - loss: 0.1008 - acc: 0.9719 - val_loss: 0.3045 - val_acc: 0.8854: 0.1016 - acc: \n",
      "Epoch 27/40\n",
      "15000/15000 [==============================] - 3s 171us/step - loss: 0.0990 - acc: 0.9723 - val_loss: 0.3061 - val_acc: 0.8855\n",
      "Epoch 28/40\n",
      "15000/15000 [==============================] - 2s 146us/step - loss: 0.0968 - acc: 0.9737 - val_loss: 0.3077 - val_acc: 0.8862\n",
      "Epoch 29/40\n",
      "15000/15000 [==============================] - 2s 139us/step - loss: 0.0950 - acc: 0.9742 - val_loss: 0.3115 - val_acc: 0.8844\n",
      "Epoch 30/40\n",
      "15000/15000 [==============================] - 2s 147us/step - loss: 0.0927 - acc: 0.9752 - val_loss: 0.3117 - val_acc: 0.8852\n",
      "Epoch 31/40\n",
      "15000/15000 [==============================] - 2s 163us/step - loss: 0.0905 - acc: 0.9760 - val_loss: 0.3130 - val_acc: 0.8844\n",
      "Epoch 32/40\n",
      "15000/15000 [==============================] - 2s 157us/step - loss: 0.0886 - acc: 0.9767 - val_loss: 0.3163 - val_acc: 0.8843\n",
      "Epoch 33/40\n",
      "15000/15000 [==============================] - 2s 149us/step - loss: 0.0869 - acc: 0.9769 - val_loss: 0.3170 - val_acc: 0.8831\n",
      "Epoch 34/40\n",
      "15000/15000 [==============================] - 2s 139us/step - loss: 0.0849 - acc: 0.9779 - val_loss: 0.3204 - val_acc: 0.8825\n",
      "Epoch 35/40\n",
      "15000/15000 [==============================] - 2s 154us/step - loss: 0.0832 - acc: 0.9781 - val_loss: 0.3219 - val_acc: 0.8828\n",
      "Epoch 36/40\n",
      "15000/15000 [==============================] - 3s 167us/step - loss: 0.0816 - acc: 0.9795 - val_loss: 0.3239 - val_acc: 0.8826\n",
      "Epoch 37/40\n",
      "15000/15000 [==============================] - 2s 157us/step - loss: 0.0797 - acc: 0.9795 - val_loss: 0.3257 - val_acc: 0.8825\n",
      "Epoch 38/40\n",
      "15000/15000 [==============================] - 2s 145us/step - loss: 0.0782 - acc: 0.9804 - val_loss: 0.3277 - val_acc: 0.8824\n",
      "Epoch 39/40\n",
      "15000/15000 [==============================] - 2s 138us/step - loss: 0.0763 - acc: 0.9807 - val_loss: 0.3306 - val_acc: 0.8815\n",
      "Epoch 40/40\n",
      "15000/15000 [==============================] - 2s 162us/step - loss: 0.0748 - acc: 0.9815 - val_loss: 0.3335 - val_acc: 0.8808\n"
     ]
    }
   ],
   "source": [
    "history = model.fit(partial_x_train,\n",
    "                   partial_y_train,\n",
    "                   epochs=40,\n",
    "                   batch_size=512,\n",
    "                   validation_data=(x_val, y_val),\n",
    "                    verbose=1)\n"
   ]
  },
  {
   "cell_type": "code",
   "execution_count": 28,
   "metadata": {},
   "outputs": [
    {
     "name": "stdout",
     "output_type": "stream",
     "text": [
      "25000/25000 [==============================] - 1s 46us/step\n",
      "[0.35650668896675108, 0.86912]\n"
     ]
    }
   ],
   "source": [
    "results = model.evaluate(test_data, test_labels)\n",
    "print(results)\n"
   ]
  },
  {
   "cell_type": "code",
   "execution_count": 30,
   "metadata": {},
   "outputs": [
    {
     "data": {
      "text/plain": [
       "dict_keys(['val_loss', 'loss', 'val_acc', 'acc'])"
      ]
     },
     "execution_count": 30,
     "metadata": {},
     "output_type": "execute_result"
    }
   ],
   "source": [
    "history_dict = history.history\n",
    "history_dict.keys()"
   ]
  },
  {
   "cell_type": "code",
   "execution_count": 34,
   "metadata": {},
   "outputs": [
    {
     "data": {
      "image/png": "[encoded data removed]",
      "text/plain": [
       "<matplotlib.figure.Figure at 0x3eccba20>"
      ]
     },
     "metadata": {},
     "output_type": "display_data"
    }
   ],
   "source": [
    "import matplotlib.pyplot as plt\n",
    "\n",
    "acc = history.history['acc']\n",
    "val_acc = history.history['val_acc']\n",
    "loss = history.history['loss']\n",
    "val_loss = history.history['val_loss']\n",
    "\n",
    "epochs = range(1, len(acc) + 1)\n",
    "\n",
    "plt.plot(epochs, loss, 'bo', label='Training loss')\n",
    "plt.plot(epochs, val_loss, 'b', label='Validation loss')\n",
    "plt.title('Training and validation loss')\n",
    "plt.xlabel('Epochs')\n",
    "plt.ylabel('Loss')\n",
    "\n",
    "plt.show()\n"
   ]
  },
  {
   "cell_type": "code",
   "execution_count": 37,
   "metadata": {},
   "outputs": [
    {
     "data": {
      "image/png": "[encoded data removed]",
      "text/plain": [
       "<matplotlib.figure.Figure at 0x3ec0add8>"
      ]
     },
     "metadata": {},
     "output_type": "display_data"
    }
   ],
   "source": [
    "plt.clf()\n",
    "acc_values = history_dict['acc']\n",
    "val_acc_values = history_dict['val_acc']\n",
    "\n",
    "plt.plot(epochs, acc, 'bo', label='Training acc')\n",
    "plt.plot(epochs, val_acc, 'b', label='Validation acc')\n",
    "plt.title('Training and validation accuracy')\n",
    "plt.xlabel('Epochs')\n",
    "plt.ylabel('Accuracy')\n",
    "plt.legend()\n",
    "\n",
    "plt.show()"
   ]
  },
  {
   "cell_type": "code",
   "execution_count": 61,
   "metadata": {},
   "outputs": [
    {
     "name": "stdout",
     "output_type": "stream",
     "text": [
      "<START> like some other people wrote i'm a die hard mario fan and i loved this game br br this game starts slightly boring but trust me it's worth it as soon as you start your hooked the levels are fun and <UNK> they will hook you <UNK> your mind turns to <UNK> i'm not kidding this game is also <UNK> and is beautifully done br br to keep this spoiler free i have to keep my mouth shut about details but please try this game it'll be worth it br br story 9 9 action 10 1 it's that good <UNK> 10 attention <UNK> 10 average 10 <PAD> <PAD> <PAD> <PAD> <PAD> <PAD> <PAD> <PAD> <PAD> <PAD> <PAD> <PAD> <PAD> <PAD> <PAD> <PAD> <PAD> <PAD> <PAD> <PAD> <PAD> <PAD> <PAD> <PAD> <PAD> <PAD> <PAD> <PAD> <PAD> <PAD> <PAD> <PAD> <PAD> <PAD> <PAD> <PAD> <PAD> <PAD> <PAD> <PAD> <PAD> <PAD> <PAD> <PAD> <PAD> <PAD> <PAD> <PAD> <PAD> <PAD> <PAD> <PAD> <PAD> <PAD> <PAD> <PAD> <PAD> <PAD> <PAD> <PAD> <PAD> <PAD> <PAD> <PAD> <PAD> <PAD> <PAD> <PAD> <PAD> <PAD> <PAD> <PAD> <PAD> <PAD> <PAD> <PAD> <PAD> <PAD> <PAD> <PAD> <PAD> <PAD> <PAD> <PAD> <PAD> <PAD> <PAD> <PAD> <PAD> <PAD> <PAD> <PAD> <PAD> <PAD> <PAD> <PAD> <PAD> <PAD> <PAD> <PAD> <PAD> <PAD> <PAD> <PAD> <PAD> <PAD> <PAD> <PAD> <PAD> <PAD> <PAD> <PAD> <PAD> <PAD> <PAD> <PAD> <PAD> <PAD> <PAD> <PAD> <PAD> <PAD> <PAD> <PAD> <PAD> <PAD> <PAD> <PAD> <PAD> <PAD> <PAD> <PAD> <PAD> <PAD> <PAD> <PAD> <PAD> <PAD> <PAD> <PAD> <PAD> <PAD> <PAD> <PAD> <PAD> <PAD> <PAD> <PAD>\n",
      "score: 1\n"
     ]
    }
   ],
   "source": [
    "print(decode_review(test_data[4]))\n",
    "print(\"score:\",test_labels[4])"
   ]
  },
  {
   "cell_type": "code",
   "execution_count": 62,
   "metadata": {},
   "outputs": [
    {
     "name": "stdout",
     "output_type": "stream",
     "text": [
      "[ 0.99827623]\n"
     ]
    }
   ],
   "source": [
    "predictions = model.predict(test_data)\n",
    "print(predictions[4])\n"
   ]
  }
 ],
 "metadata": {
  "kernelspec": {
   "display_name": "Python 3",
   "language": "python",
   "name": "python3"
  },
  "language_info": {
   "codemirror_mode": {
    "name": "ipython",
    "version": 3
   },
   "file_extension": ".py",
   "mimetype": "text/x-python",
   "name": "python",
   "nbconvert_exporter": "python",
   "pygments_lexer": "ipython3",
   "version": "3.5.3"
  }
 },
 "nbformat": 4,
 "nbformat_minor": 2
}
