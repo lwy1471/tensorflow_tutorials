{
 "cells": [
  {
   "cell_type": "code",
   "execution_count": 40,
   "metadata": {},
   "outputs": [
    {
     "name": "stdout",
     "output_type": "stream",
     "text": [
      "1.10.0\n"
     ]
    }
   ],
   "source": [
    "import tensorflow as tf\n",
    "from tensorflow import keras\n",
    "\n",
    "import numpy as np\n",
    "\n",
    "print(tf.__version__)\n"
   ]
  },
  {
   "cell_type": "code",
   "execution_count": 41,
   "metadata": {},
   "outputs": [
    {
     "name": "stdout",
     "output_type": "stream",
     "text": [
      "(404,)\n",
      "[ 0.73541945  0.76855524  0.06650941  0.87936262  0.98446666  0.95646803\n",
      "  0.0557069   0.23608721  0.92689035  0.79098896  0.60556978  0.37370977\n",
      "  0.63054626  0.27056101  0.54662009  0.68439432  0.98089573  0.21689642\n",
      "  0.83156077  0.17620774  0.74950968  0.444637    0.48410081  0.0345767\n",
      "  0.83933452  0.22575265  0.24768062  0.41963141  0.37793192  0.66345517\n",
      "  0.54719216  0.67148876  0.74522824  0.18568376  0.64886368  0.18689671\n",
      "  0.3973462   0.37598998  0.3692389   0.87607339  0.70402946  0.72830724\n",
      "  0.24175013  0.36670369  0.49484236  0.73813205  0.47534901  0.39835837\n",
      "  0.53921361  0.21841442  0.6008202   0.66640808  0.81975376  0.37411547\n",
      "  0.75151728  0.31843207  0.89765794  0.79567661  0.8076789   0.32908028\n",
      "  0.12154582  0.16430127  0.97501655  0.53563835  0.88531435  0.89632771\n",
      "  0.47145144  0.82080192  0.85096928  0.57185777  0.52838955  0.68484691\n",
      "  0.52890892  0.28283782  0.43093966  0.95367671  0.34698335  0.99649348\n",
      "  0.57088255  0.30784127  0.31627331  0.42887619  0.44596907  0.96075632\n",
      "  0.4359378   0.68699135  0.49523675  0.89937266  0.42044719  0.47714211\n",
      "  0.57835806  0.80666942  0.54157486  0.56968619  0.63422472  0.26666639\n",
      "  0.28669766  0.81175802  0.23036733  0.06999166  0.39798925  0.11343346\n",
      "  0.21639454  0.31817705  0.60933553  0.22393714  0.23295211  0.27537983\n",
      "  0.85770313  0.03407915  0.4811228   0.54931813  0.2919667   0.81711503\n",
      "  0.82249374  0.45332941  0.09152549  0.81429524  0.94072435  0.38250158\n",
      "  0.24397087  0.45281331  0.18351171  0.39371677  0.16013982  0.06899509\n",
      "  0.66015718  0.41763143  0.81009689  0.44050719  0.02564226  0.52886713\n",
      "  0.00713284  0.0401839   0.35977586  0.16377475  0.56718426  0.8442531\n",
      "  0.27754176  0.91942909  0.97215293  0.89371791  0.30746908  0.06394667\n",
      "  0.94726422  0.18370271  0.353113    0.20256372  0.58472728  0.04778315\n",
      "  0.07872164  0.07245076  0.46346591  0.81546736  0.20249824  0.08679285\n",
      "  0.2631855   0.06246758  0.93748447  0.40886411  0.79996142  0.60275832\n",
      "  0.05813893  0.57409857  0.69403945  0.24306188  0.88576622  0.5625598\n",
      "  0.19736428  0.09100789  0.61528095  0.44379116  0.3009953   0.67324032\n",
      "  0.11158952  0.66250016  0.07836599  0.82246176  0.37296691  0.47625663\n",
      "  0.52085352  0.41279546  0.42921123  0.02392799  0.60406598  0.49797742\n",
      "  0.12767478  0.37324512  0.2626414   0.43077213  0.76890104  0.15103346\n",
      "  0.46314379  0.53648501  0.56542946  0.05546211  0.19088119  0.75679962\n",
      "  0.86860339  0.11519738  0.10530189  0.03678289  0.05587249  0.71822003\n",
      "  0.85833407  0.78182255  0.08189602  0.74955595  0.55892704  0.00633386\n",
      "  0.9110321   0.10179565  0.20649474  0.42522409  0.26066436  0.19483272\n",
      "  0.03158478  0.14976734  0.93172315  0.96673779  0.33061858  0.3797903\n",
      "  0.03931076  0.37528545  0.52799184  0.89737284  0.41734401  0.34576664\n",
      "  0.77199016  0.92086392  0.77035213  0.03413425  0.88285453  0.69376302\n",
      "  0.54083069  0.56318931  0.05029248  0.9839308   0.59753157  0.08657196\n",
      "  0.89836159  0.62340095  0.44419059  0.07176799  0.83127606  0.90246974\n",
      "  0.70998272  0.93458199  0.04714039  0.61044137  0.12208854  0.5919977\n",
      "  0.67775703  0.87506642  0.47195944  0.04868483  0.08641491  0.27032869\n",
      "  0.12236355  0.50195155  0.46670342  0.48450248  0.6560711   0.39833277\n",
      "  0.11117819  0.22607195  0.89194723  0.9685573   0.09963995  0.1437282\n",
      "  0.93186356  0.2940213   0.71669241  0.19594538  0.78085631  0.5607371\n",
      "  0.54717873  0.88711285  0.95112978  0.26388752  0.23004022  0.39768309\n",
      "  0.85039258  0.01286062  0.71672574  0.6144941   0.11676313  0.0434499\n",
      "  0.32128911  0.04134304  0.80919659  0.00171507  0.98452048  0.65231452\n",
      "  0.50496129  0.1126817   0.03200302  0.2018196   0.65606635  0.41797605\n",
      "  0.57554176  0.71730863  0.0547232   0.82871047  0.03894645  0.00707311\n",
      "  0.15273028  0.80905758  0.78089125  0.5641397   0.53772793  0.95110475\n",
      "  0.08442814  0.35713121  0.95359255  0.96355125  0.62656551  0.486691\n",
      "  0.94359651  0.4271139   0.62710417  0.01444782  0.25296402  0.12222787\n",
      "  0.91485021  0.37876766  0.60051868  0.12336831  0.03130233  0.07347905\n",
      "  0.21539288  0.24341478  0.78078412  0.47830486  0.31324735  0.30519609\n",
      "  0.57003266  0.70562456  0.49900521  0.50281572  0.73418707  0.47182195\n",
      "  0.23524861  0.31358392  0.58211424  0.18578847  0.19266281  0.5631397\n",
      "  0.12863437  0.02516496  0.39018967  0.06500747  0.97295969  0.84009273\n",
      "  0.70380579  0.94916614  0.10641434  0.7577472   0.25390769  0.27589037\n",
      "  0.24211745  0.35422259  0.43118978  0.24525328  0.68763611  0.79177409\n",
      "  0.31981506  0.55154894  0.56395131  0.07155585  0.91465579  0.51995\n",
      "  0.29479504  0.57949539  0.80200727  0.9193661   0.32204904  0.01952267\n",
      "  0.76105982  0.94450048  0.90989075  0.82485047  0.50303886  0.16041733\n",
      "  0.6339961   0.84112715  0.11045675  0.86271511  0.15490942  0.32720435\n",
      "  0.53053674  0.32144792  0.2577717   0.688702    0.56114334  0.37386742\n",
      "  0.25957352  0.54213619  0.78706119  0.97317968  0.8614991   0.82227172\n",
      "  0.1134056   0.59701145]\n",
      "[133 229  58 164 317 331 154 303 209 217 239  45 318  48  86 207 387   2\n",
      "  76  75  73  14 131 151 263   7 340  18  25 297  63 197 287 378 310 172\n",
      "  10 204 146 350  62 368 137 357 236 119 162 271  35 382 315 371 105   5\n",
      "  47 341 291 305 240  38 261 189 286 205 193 328 361  80 339 316 301 401\n",
      " 347 295 157 349 192 177  53  50  92 166 247 210 246 358 325 330 276  89\n",
      " 356 304 235 168 326 338 293 152 190 270 343  57 224 108 254 225  26 403\n",
      " 216  98 324 198 388  78 262 148 103 394  30 351 400 226 202 256  70 110\n",
      "  44 259  36 143 250  66 196 386 313 373 112  95 314 296 182 129   9  77\n",
      " 248  54 365  20 392 274  15  11 384 153 355 156 237 101 155 266 227 188\n",
      " 272 173 329 277 169  97 397 265 130 223 211  16  39 158  79 284 311 345\n",
      " 283  55 214 353 208 292 306  83 149 106  88 363  24 114 141 187 385 319\n",
      " 367 231 260  74 288 159 346   0  32 269  99 334 257 366 194 174 380 201\n",
      " 396 221  42 230 136 233 344  17 389 134 186  81 215  82 144 139 395 203\n",
      " 342   6 242 333 109 124 354 377  61 126   1 282 335 220 167  33 176 234\n",
      " 289 253 180 171 320   8 160  56 278  84  91 249 113  27 102 165 145 294\n",
      " 298 179  46  31 241 183 150  34 300 332 245 360 175  23 142 323 273 302\n",
      " 122 252  13  37 374 219  60 322 379 308 267  65 100  21 135 163 191 279\n",
      " 118 185 255  93 132 402 104 121 285 275  41 178 321 218 228 391 390 336\n",
      "  94 128 372  90  87 184 206  40 381 138 117 370 200 348 115  64 258 238\n",
      " 327  68 107  52 376   3 398  85 212  51  67 123 195  22  71 232 161 127\n",
      "  69 111 352 199  29 399 268 375 147 222 383  12 337 120 264 213  43 362\n",
      " 243 125 290  72  28 359 280  96 312 170 251   4 364 181 299 281  19 307\n",
      " 309 393 140  49 369 244  59 116]\n"
     ]
    }
   ],
   "source": [
    "boston_housing = keras.datasets.boston_housing\n",
    "\n",
    "(train_data, train_labels), (test_data, test_labels) = boston_housing.load_data()\n",
    "print(train_labels.shape)\n",
    "order = np.argsort(np.random.random(train_labels.shape))\n",
    "print(np.random.random(train_labels.shape))\n",
    "print(order)"
   ]
  },
  {
   "cell_type": "code",
   "execution_count": null,
   "metadata": {},
   "outputs": [],
   "source": []
  },
  {
   "cell_type": "code",
   "execution_count": 42,
   "metadata": {
    "collapsed": true
   },
   "outputs": [],
   "source": [
    "train_data = train_data[order]\n",
    "train_labels = train_labels[order]"
   ]
  },
  {
   "cell_type": "code",
   "execution_count": 43,
   "metadata": {},
   "outputs": [
    {
     "name": "stdout",
     "output_type": "stream",
     "text": [
      "Training set: (404, 13)\n",
      "Testing set: (102, 13)\n",
      "[  7.87500000e-02   4.50000000e+01   3.44000000e+00   0.00000000e+00\n",
      "   4.37000000e-01   6.78200000e+00   4.11000000e+01   3.78860000e+00\n",
      "   5.00000000e+00   3.98000000e+02   1.52000000e+01   3.93870000e+02\n",
      "   6.68000000e+00]\n"
     ]
    }
   ],
   "source": [
    "print(\"Training set: {}\".format(train_data.shape))\n",
    "print(\"Testing set: {}\".format(test_data.shape))\n",
    "\n",
    "\"\"\"\n",
    "1. Per capita crime rate.\n",
    "2. The proportion of residential land zoned for lots over 25,000 square feet.\n",
    "3. The proportion of non-retail business acres per town.\n",
    "4. Charles River dummy variable (= 1 if tract bounds river; 0 otherwise).\n",
    "5. Nitric oxides concentration (parts per 10 million).\n",
    "6. The average number of rooms per dwelling.\n",
    "7. The proportion of owner-occupied units built before 1940.\n",
    "8. Weighted distances to five Boston employment centers.\n",
    "9. Index of accessibility to radial highways.\n",
    "10. Full-value property-tax rate per $10,000.\n",
    "11. Pupil-teacher ratio by town.\n",
    "12. 1000 * (Bk - 0.63) ** 2 where Bk is the proportion of Black people by town.\n",
    "13. Percentage lower status of the population.\n",
    "\n",
    "\"\"\"\n",
    "\n",
    "print(train_data[0])"
   ]
  },
  {
   "cell_type": "code",
   "execution_count": 44,
   "metadata": {},
   "outputs": [
    {
     "data": {
      "text/html": [
       "<div>\n",
       "<style scoped>\n",
       "    .dataframe tbody tr th:only-of-type {\n",
       "        vertical-align: middle;\n",
       "    }\n",
       "\n",
       "    .dataframe tbody tr th {\n",
       "        vertical-align: top;\n",
       "    }\n",
       "\n",
       "    .dataframe thead th {\n",
       "        text-align: right;\n",
       "    }\n",
       "</style>\n",
       "<table border=\"1\" class=\"dataframe\">\n",
       "  <thead>\n",
       "    <tr style=\"text-align: right;\">\n",
       "      <th></th>\n",
       "      <th>CRIM</th>\n",
       "      <th>ZN</th>\n",
       "      <th>INDUS</th>\n",
       "      <th>CHAS</th>\n",
       "      <th>NOX</th>\n",
       "      <th>RM</th>\n",
       "      <th>AGE</th>\n",
       "      <th>DIS</th>\n",
       "      <th>RAD</th>\n",
       "      <th>TAX</th>\n",
       "      <th>PTRATIO</th>\n",
       "      <th>B</th>\n",
       "      <th>LSTAT</th>\n",
       "    </tr>\n",
       "  </thead>\n",
       "  <tbody>\n",
       "    <tr>\n",
       "      <th>0</th>\n",
       "      <td>0.07875</td>\n",
       "      <td>45.0</td>\n",
       "      <td>3.44</td>\n",
       "      <td>0.0</td>\n",
       "      <td>0.437</td>\n",
       "      <td>6.782</td>\n",
       "      <td>41.1</td>\n",
       "      <td>3.7886</td>\n",
       "      <td>5.0</td>\n",
       "      <td>398.0</td>\n",
       "      <td>15.2</td>\n",
       "      <td>393.87</td>\n",
       "      <td>6.68</td>\n",
       "    </tr>\n",
       "    <tr>\n",
       "      <th>1</th>\n",
       "      <td>4.55587</td>\n",
       "      <td>0.0</td>\n",
       "      <td>18.10</td>\n",
       "      <td>0.0</td>\n",
       "      <td>0.718</td>\n",
       "      <td>3.561</td>\n",
       "      <td>87.9</td>\n",
       "      <td>1.6132</td>\n",
       "      <td>24.0</td>\n",
       "      <td>666.0</td>\n",
       "      <td>20.2</td>\n",
       "      <td>354.70</td>\n",
       "      <td>7.12</td>\n",
       "    </tr>\n",
       "    <tr>\n",
       "      <th>2</th>\n",
       "      <td>0.09604</td>\n",
       "      <td>40.0</td>\n",
       "      <td>6.41</td>\n",
       "      <td>0.0</td>\n",
       "      <td>0.447</td>\n",
       "      <td>6.854</td>\n",
       "      <td>42.8</td>\n",
       "      <td>4.2673</td>\n",
       "      <td>4.0</td>\n",
       "      <td>254.0</td>\n",
       "      <td>17.6</td>\n",
       "      <td>396.90</td>\n",
       "      <td>2.98</td>\n",
       "    </tr>\n",
       "    <tr>\n",
       "      <th>3</th>\n",
       "      <td>0.01870</td>\n",
       "      <td>85.0</td>\n",
       "      <td>4.15</td>\n",
       "      <td>0.0</td>\n",
       "      <td>0.429</td>\n",
       "      <td>6.516</td>\n",
       "      <td>27.7</td>\n",
       "      <td>8.5353</td>\n",
       "      <td>4.0</td>\n",
       "      <td>351.0</td>\n",
       "      <td>17.9</td>\n",
       "      <td>392.43</td>\n",
       "      <td>6.36</td>\n",
       "    </tr>\n",
       "    <tr>\n",
       "      <th>4</th>\n",
       "      <td>0.52693</td>\n",
       "      <td>0.0</td>\n",
       "      <td>6.20</td>\n",
       "      <td>0.0</td>\n",
       "      <td>0.504</td>\n",
       "      <td>8.725</td>\n",
       "      <td>83.0</td>\n",
       "      <td>2.8944</td>\n",
       "      <td>8.0</td>\n",
       "      <td>307.0</td>\n",
       "      <td>17.4</td>\n",
       "      <td>382.00</td>\n",
       "      <td>4.63</td>\n",
       "    </tr>\n",
       "  </tbody>\n",
       "</table>\n",
       "</div>"
      ],
      "text/plain": [
       "      CRIM    ZN  INDUS  CHAS    NOX     RM   AGE     DIS   RAD    TAX  \\\n",
       "0  0.07875  45.0   3.44   0.0  0.437  6.782  41.1  3.7886   5.0  398.0   \n",
       "1  4.55587   0.0  18.10   0.0  0.718  3.561  87.9  1.6132  24.0  666.0   \n",
       "2  0.09604  40.0   6.41   0.0  0.447  6.854  42.8  4.2673   4.0  254.0   \n",
       "3  0.01870  85.0   4.15   0.0  0.429  6.516  27.7  8.5353   4.0  351.0   \n",
       "4  0.52693   0.0   6.20   0.0  0.504  8.725  83.0  2.8944   8.0  307.0   \n",
       "\n",
       "   PTRATIO       B  LSTAT  \n",
       "0     15.2  393.87   6.68  \n",
       "1     20.2  354.70   7.12  \n",
       "2     17.6  396.90   2.98  \n",
       "3     17.9  392.43   6.36  \n",
       "4     17.4  382.00   4.63  "
      ]
     },
     "execution_count": 44,
     "metadata": {},
     "output_type": "execute_result"
    }
   ],
   "source": [
    "import pandas as pd\n",
    "column_names = ['CRIM', 'ZN', 'INDUS', 'CHAS', 'NOX', 'RM', 'AGE', 'DIS', 'RAD', 'TAX', 'PTRATIO', 'B', 'LSTAT']\n",
    "\n",
    "df = pd.DataFrame(train_data, columns=column_names)\n",
    "df.head()"
   ]
  },
  {
   "cell_type": "code",
   "execution_count": 45,
   "metadata": {},
   "outputs": [
    {
     "name": "stdout",
     "output_type": "stream",
     "text": [
      "[ 32.   27.5  32.   23.1  50.   20.6  22.6  36.2  21.8  19.5]\n"
     ]
    }
   ],
   "source": [
    "print(train_labels[0:10])"
   ]
  },
  {
   "cell_type": "code",
   "execution_count": 46,
   "metadata": {},
   "outputs": [
    {
     "name": "stdout",
     "output_type": "stream",
     "text": [
      "[-0.39725269  1.41205707 -1.12664623 -0.25683275 -1.027385    0.72635358\n",
      " -1.00016413  0.02383449 -0.51114231 -0.04753316 -1.49067405  0.41584124\n",
      " -0.83648691]\n",
      "13\n"
     ]
    }
   ],
   "source": [
    "mean = train_data.mean(axis=0)\n",
    "std = train_data.std(axis=0)\n",
    "train_data = (train_data - mean) / std\n",
    "test_data = (test_data - mean ) / std\n",
    "\n",
    "print(train_data[0])\n",
    "print(train_data.shape[1])"
   ]
  },
  {
   "cell_type": "code",
   "execution_count": 47,
   "metadata": {},
   "outputs": [
    {
     "name": "stdout",
     "output_type": "stream",
     "text": [
      "_________________________________________________________________\n",
      "Layer (type)                 Output Shape              Param #   \n",
      "=================================================================\n",
      "dense_9 (Dense)              (None, 64)                896       \n",
      "_________________________________________________________________\n",
      "dense_10 (Dense)             (None, 64)                4160      \n",
      "_________________________________________________________________\n",
      "dense_11 (Dense)             (None, 1)                 65        \n",
      "=================================================================\n",
      "Total params: 5,121\n",
      "Trainable params: 5,121\n",
      "Non-trainable params: 0\n",
      "_________________________________________________________________\n"
     ]
    }
   ],
   "source": [
    "def build_model():\n",
    "    model = keras.Sequential([\n",
    "        keras.layers.Dense(64, activation=tf.nn.relu, input_shape=(train_data.shape[1],)),\n",
    "        keras.layers.Dense(64, activation=tf.nn.relu),\n",
    "        keras.layers.Dense(1)\n",
    "    ])\n",
    "    \n",
    "    optimizer = tf.train.RMSPropOptimizer(0.001)\n",
    "    \n",
    "    model.compile(loss='mse', optimizer=optimizer, metrics=['mae'])\n",
    "    return model\n",
    "\n",
    "model = build_model()\n",
    "model.summary()"
   ]
  },
  {
   "cell_type": "code",
   "execution_count": 48,
   "metadata": {},
   "outputs": [
    {
     "name": "stdout",
     "output_type": "stream",
     "text": [
      "\n",
      "....................................................................................................\n",
      "....................................................................................................\n",
      "....................................................................................................\n",
      "....................................................................................................\n",
      "...................................................................................................."
     ]
    }
   ],
   "source": [
    "class PrintDot(keras.callbacks.Callback):\n",
    "    def on_epoch_end(self,epoch,logs):\n",
    "        if epoch % 100 == 0: print('')\n",
    "        print('.', end='')\n",
    "\n",
    "EPOCHS = 500\n",
    "\n",
    "history = model.fit(train_data, train_labels, epochs=EPOCHS, validation_split=0.2, verbose=0,\n",
    "                   callbacks=[PrintDot()])\n",
    "\n"
   ]
  },
  {
   "cell_type": "code",
   "execution_count": 54,
   "metadata": {},
   "outputs": [
    {
     "data": {
      "image/png": "[encoded data removed]",
      "text/plain": [
       "<matplotlib.figure.Figure at 0x11ec7240>"
      ]
     },
     "metadata": {},
     "output_type": "display_data"
    }
   ],
   "source": [
    "import matplotlib.pyplot as plt\n",
    "\n",
    "%matplotlib inline\n",
    "\n",
    "def plot_history(history):\n",
    "    plt.figure()\n",
    "    plt.xlabel('Epoch')\n",
    "    plt.ylabel('Mean Abs Error [1000$]')\n",
    "    plt.plot(history.epoch, np.array(history.history['mean_absolute_error']), label='Train Loss')\n",
    "    plt.plot(history.epoch, np.array(history.history['val_mean_absolute_error']), label='Val loss')\n",
    "    plt.legend()\n",
    "    plt.ylim([0,5])\n",
    "    \n",
    "plot_history(history)"
   ]
  },
  {
   "cell_type": "code",
   "execution_count": 55,
   "metadata": {},
   "outputs": [
    {
     "name": "stdout",
     "output_type": "stream",
     "text": [
      "\n",
      "....................................................................................................\n",
      "..............................."
     ]
    },
    {
     "data": {
      "image/png": "[encoded data removed]",
      "text/plain": [
       "<matplotlib.figure.Figure at 0x16a3b438>"
      ]
     },
     "metadata": {},
     "output_type": "display_data"
    }
   ],
   "source": [
    "model = build_model()\n",
    "\n",
    "early_stop = keras.callbacks.EarlyStopping(monitor='val_loss', patience=20)\n",
    "\n",
    "history = model.fit(train_data, train_labels, epochs=EPOCHS, validation_split=0.2, verbose=0, callbacks=[early_stop, PrintDot()])\n",
    "\n",
    "plot_history(history)"
   ]
  },
  {
   "cell_type": "code",
   "execution_count": 56,
   "metadata": {},
   "outputs": [
    {
     "name": "stdout",
     "output_type": "stream",
     "text": [
      "Testing set Mean Abs Error: $2699.05\n"
     ]
    }
   ],
   "source": [
    "[loss, mae] = model.evaluate(test_data, test_labels, verbose=0)\n",
    "print(\"Testing set Mean Abs Error: ${:7.2f}\".format(mae * 1000))"
   ]
  },
  {
   "cell_type": "code",
   "execution_count": 53,
   "metadata": {},
   "outputs": [
    {
     "name": "stdout",
     "output_type": "stream",
     "text": [
      "[ 11.88537216  20.12720108  21.50247383  34.15927505  25.24501228\n",
      "  23.60725975  27.20299149  22.56785011  20.11530876  22.0111599\n",
      "  27.65670204  18.3610096   16.68855476  43.74160004  22.72853279\n",
      "  21.16569328  26.53652     18.45672417  21.87487984  24.2385807\n",
      "  13.34291935  11.89369392  21.38187599  15.73940849  17.70970726\n",
      "  25.86859131  29.24379158  27.77734375  13.67850113  20.27475929\n",
      "  20.77145004  17.52841187  36.18510437  24.49043083  21.78607178\n",
      "  11.56986809  19.86345673  17.12889862  22.98501015  25.68466759\n",
      "  33.29699707  30.27225876  14.43071747  43.04741669  31.80180931\n",
      "  29.29329491  28.93481255  21.42464066  23.17864609  22.93047905\n",
      "  35.23495483  22.43012428  11.56385422  14.88085842  37.35644531\n",
      "  29.25415993  12.62219429  52.38817596  36.29253387  26.80215263\n",
      "  23.21837044  14.87597847  18.22122002  21.08293724  24.02456856\n",
      "  20.81066895  16.77375221  22.66168022  11.54550934  10.79693127\n",
      "  24.82691765  29.67645264  27.37280846  11.70012474  25.78861427\n",
      "  19.06870079  19.62063026  24.54667473  36.45034027  11.91155243\n",
      "  23.38719749  41.72761536  16.08399582  14.92867088  19.65389824\n",
      "  16.14660835  21.8232975   21.12833023  21.48927116  31.9360733\n",
      "  21.23330879  16.04855156  27.37036324  42.2959137   37.05596924\n",
      "  24.0466938   38.7247467   51.03652954  25.47948837  48.75643921\n",
      "  30.02358437  21.47390556]\n"
     ]
    }
   ],
   "source": [
    "test_prediction = model.predict(test_data).flatten()\n",
    "print(test_prediction)"
   ]
  }
 ],
 "metadata": {
  "kernelspec": {
   "display_name": "Python 3",
   "language": "python",
   "name": "python3"
  },
  "language_info": {
   "codemirror_mode": {
    "name": "ipython",
    "version": 3
   },
   "file_extension": ".py",
   "mimetype": "text/x-python",
   "name": "python",
   "nbconvert_exporter": "python",
   "pygments_lexer": "ipython3",
   "version": "3.5.3"
  }
 },
 "nbformat": 4,
 "nbformat_minor": 2
}
